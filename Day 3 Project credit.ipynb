{
 "cells": [
  {
   "cell_type": "markdown",
   "id": "83ab35f8",
   "metadata": {},
   "source": [
    "Step 1. 이것만큼은 꼭 해보세요!\n",
    "프로젝트에 정답은 없습니다. 배우신 내용을 토대로 자유롭게 데이터를 정제/변환하시되, 아래 내용만큼은 반드시 실습해봅시다.\n",
    "\n",
    "사기거래 여부를 예측하는 데 불필요한 컬럼을 제거합니다.\n",
    "최소 2개 이상의 새로운 피처(변수)를 생성해봅시다.\n",
    "[힌트] 구매 금액, 시간 등의 변수를 이용할 수 있습니다.\n",
    "\n",
    "Step 2. 이런것도 해볼 수 있어요!\n",
    "자유롭게 실습을 해보시고, 여유가 되면 아래의 내용도 실습해보세요.\n",
    "강의의 범위를 벗어나는 개념이 필요할 수 있으니, 인터넷 검색도 적극 활용해보세요.\n",
    "\n",
    "데이터의 위도/경도 정보를 활용해볼 수 있을까요?\n",
    "통계적 관점으로 접근하여 유용한 변수를 만들어낼 수 있을까요?"
   ]
  },
  {
   "cell_type": "markdown",
   "id": "6894fb07",
   "metadata": {},
   "source": [
    "trans_date_trans_time : 거래 시간\n",
    "cc_num : 카드 번호\n",
    "merchant : 가게 이름\n",
    "category : 가게 업종\n",
    "amt : 거래 금액\n",
    "first : 이름\n",
    "last : 이름\n",
    "gender : 성별\n",
    "street : 주소\n",
    "city : 주소\n",
    "state : 주소\n",
    "zip : 주소\n",
    "lat : 거주지의 위도\n",
    "long : 거주지의 경도\n",
    "city_pop : 도시 인구 수\n",
    "job : 직업\n",
    "dob : 생년월일\n",
    "trans_num : 거래 번호\n",
    "unix_time : ???\n",
    "merch_lat : 가맹정 위도\n",
    "merch_long : 가맹정 경도\n",
    "is_fraud : 사기 거래 여부"
   ]
  },
  {
   "cell_type": "code",
   "execution_count": 2,
   "id": "bcbf3a1e",
   "metadata": {},
   "outputs": [
    {
     "name": "stderr",
     "output_type": "stream",
     "text": [
      "Matplotlib is building the font cache; this may take a moment.\n"
     ]
    }
   ],
   "source": [
    "import pandas as pd\n",
    "import numpy as np\n",
    "import seaborn as sns"
   ]
  },
  {
   "cell_type": "code",
   "execution_count": 3,
   "id": "94e0fc48",
   "metadata": {},
   "outputs": [],
   "source": [
    "cc_df = pd.read_csv('fraud.csv')"
   ]
  },
  {
   "cell_type": "code",
   "execution_count": 4,
   "id": "5ddc6da2",
   "metadata": {},
   "outputs": [],
   "source": [
    "pd.set_option('display.max_columns', 50)"
   ]
  },
  {
   "cell_type": "code",
   "execution_count": 5,
   "id": "349468c5",
   "metadata": {},
   "outputs": [
    {
     "data": {
      "text/html": [
       "<div>\n",
       "<style scoped>\n",
       "    .dataframe tbody tr th:only-of-type {\n",
       "        vertical-align: middle;\n",
       "    }\n",
       "\n",
       "    .dataframe tbody tr th {\n",
       "        vertical-align: top;\n",
       "    }\n",
       "\n",
       "    .dataframe thead th {\n",
       "        text-align: right;\n",
       "    }\n",
       "</style>\n",
       "<table border=\"1\" class=\"dataframe\">\n",
       "  <thead>\n",
       "    <tr style=\"text-align: right;\">\n",
       "      <th></th>\n",
       "      <th>trans_date_trans_time</th>\n",
       "      <th>cc_num</th>\n",
       "      <th>merchant</th>\n",
       "      <th>category</th>\n",
       "      <th>amt</th>\n",
       "      <th>first</th>\n",
       "      <th>last</th>\n",
       "      <th>gender</th>\n",
       "      <th>street</th>\n",
       "      <th>city</th>\n",
       "      <th>state</th>\n",
       "      <th>zip</th>\n",
       "      <th>lat</th>\n",
       "      <th>long</th>\n",
       "      <th>city_pop</th>\n",
       "      <th>job</th>\n",
       "      <th>dob</th>\n",
       "      <th>trans_num</th>\n",
       "      <th>unix_time</th>\n",
       "      <th>merch_lat</th>\n",
       "      <th>merch_long</th>\n",
       "      <th>is_fraud</th>\n",
       "    </tr>\n",
       "  </thead>\n",
       "  <tbody>\n",
       "    <tr>\n",
       "      <th>0</th>\n",
       "      <td>2019-01-01 00:00:44</td>\n",
       "      <td>630423337322</td>\n",
       "      <td>fraud_Heller, Gutmann and Zieme</td>\n",
       "      <td>grocery_pos</td>\n",
       "      <td>107.23</td>\n",
       "      <td>Stephanie</td>\n",
       "      <td>Gill</td>\n",
       "      <td>F</td>\n",
       "      <td>43039 Riley Greens Suite 393</td>\n",
       "      <td>Orient</td>\n",
       "      <td>WA</td>\n",
       "      <td>99160</td>\n",
       "      <td>48.8878</td>\n",
       "      <td>-118.2105</td>\n",
       "      <td>149</td>\n",
       "      <td>Special educational needs teacher</td>\n",
       "      <td>1978-06-21</td>\n",
       "      <td>1f76529f8574734946361c461b024d99</td>\n",
       "      <td>1325376044</td>\n",
       "      <td>49.159047</td>\n",
       "      <td>-118.186462</td>\n",
       "      <td>0</td>\n",
       "    </tr>\n",
       "    <tr>\n",
       "      <th>1</th>\n",
       "      <td>2019-01-01 00:12:34</td>\n",
       "      <td>4956828990005111019</td>\n",
       "      <td>fraud_Schultz, Simonis and Little</td>\n",
       "      <td>grocery_pos</td>\n",
       "      <td>44.71</td>\n",
       "      <td>Kenneth</td>\n",
       "      <td>Robinson</td>\n",
       "      <td>M</td>\n",
       "      <td>269 Sanchez Rapids</td>\n",
       "      <td>Elizabeth</td>\n",
       "      <td>NJ</td>\n",
       "      <td>7208</td>\n",
       "      <td>40.6747</td>\n",
       "      <td>-74.2239</td>\n",
       "      <td>124967</td>\n",
       "      <td>Operational researcher</td>\n",
       "      <td>1980-12-21</td>\n",
       "      <td>09eff9c806365e2a6be12c1bbab3d70e</td>\n",
       "      <td>1325376754</td>\n",
       "      <td>40.079588</td>\n",
       "      <td>-74.848087</td>\n",
       "      <td>0</td>\n",
       "    </tr>\n",
       "    <tr>\n",
       "      <th>2</th>\n",
       "      <td>2019-01-01 00:17:16</td>\n",
       "      <td>180048185037117</td>\n",
       "      <td>fraud_Kling-Grant</td>\n",
       "      <td>grocery_net</td>\n",
       "      <td>46.28</td>\n",
       "      <td>Mary</td>\n",
       "      <td>Wall</td>\n",
       "      <td>F</td>\n",
       "      <td>2481 Mills Lock</td>\n",
       "      <td>Plainfield</td>\n",
       "      <td>NJ</td>\n",
       "      <td>7060</td>\n",
       "      <td>40.6152</td>\n",
       "      <td>-74.4150</td>\n",
       "      <td>71485</td>\n",
       "      <td>Leisure centre manager</td>\n",
       "      <td>1974-07-19</td>\n",
       "      <td>19e23c6a300c774354417befe4f31f8c</td>\n",
       "      <td>1325377036</td>\n",
       "      <td>40.021888</td>\n",
       "      <td>-74.228188</td>\n",
       "      <td>0</td>\n",
       "    </tr>\n",
       "    <tr>\n",
       "      <th>3</th>\n",
       "      <td>2019-01-01 00:20:15</td>\n",
       "      <td>374930071163758</td>\n",
       "      <td>fraud_Deckow-O'Conner</td>\n",
       "      <td>grocery_pos</td>\n",
       "      <td>64.09</td>\n",
       "      <td>Daniel</td>\n",
       "      <td>Escobar</td>\n",
       "      <td>M</td>\n",
       "      <td>61390 Hayes Port</td>\n",
       "      <td>Romulus</td>\n",
       "      <td>MI</td>\n",
       "      <td>48174</td>\n",
       "      <td>42.2203</td>\n",
       "      <td>-83.3583</td>\n",
       "      <td>31515</td>\n",
       "      <td>Police officer</td>\n",
       "      <td>1971-11-05</td>\n",
       "      <td>6f363661ba6b55889e488dd178f2a0af</td>\n",
       "      <td>1325377215</td>\n",
       "      <td>42.360426</td>\n",
       "      <td>-83.552316</td>\n",
       "      <td>0</td>\n",
       "    </tr>\n",
       "    <tr>\n",
       "      <th>4</th>\n",
       "      <td>2019-01-01 00:23:41</td>\n",
       "      <td>2712209726293386</td>\n",
       "      <td>fraud_Balistreri-Nader</td>\n",
       "      <td>misc_pos</td>\n",
       "      <td>25.58</td>\n",
       "      <td>Jenna</td>\n",
       "      <td>Brooks</td>\n",
       "      <td>F</td>\n",
       "      <td>50872 Alex Plain Suite 088</td>\n",
       "      <td>Baton Rouge</td>\n",
       "      <td>LA</td>\n",
       "      <td>70808</td>\n",
       "      <td>30.4066</td>\n",
       "      <td>-91.1468</td>\n",
       "      <td>378909</td>\n",
       "      <td>Designer, furniture</td>\n",
       "      <td>1977-02-22</td>\n",
       "      <td>1654da2abfb9e79a5f99167fc9779558</td>\n",
       "      <td>1325377421</td>\n",
       "      <td>29.737426</td>\n",
       "      <td>-90.853194</td>\n",
       "      <td>0</td>\n",
       "    </tr>\n",
       "  </tbody>\n",
       "</table>\n",
       "</div>"
      ],
      "text/plain": [
       "  trans_date_trans_time               cc_num  \\\n",
       "0   2019-01-01 00:00:44         630423337322   \n",
       "1   2019-01-01 00:12:34  4956828990005111019   \n",
       "2   2019-01-01 00:17:16      180048185037117   \n",
       "3   2019-01-01 00:20:15      374930071163758   \n",
       "4   2019-01-01 00:23:41     2712209726293386   \n",
       "\n",
       "                            merchant     category     amt      first  \\\n",
       "0    fraud_Heller, Gutmann and Zieme  grocery_pos  107.23  Stephanie   \n",
       "1  fraud_Schultz, Simonis and Little  grocery_pos   44.71    Kenneth   \n",
       "2                  fraud_Kling-Grant  grocery_net   46.28       Mary   \n",
       "3              fraud_Deckow-O'Conner  grocery_pos   64.09     Daniel   \n",
       "4             fraud_Balistreri-Nader     misc_pos   25.58      Jenna   \n",
       "\n",
       "       last gender                        street         city state    zip  \\\n",
       "0      Gill      F  43039 Riley Greens Suite 393       Orient    WA  99160   \n",
       "1  Robinson      M            269 Sanchez Rapids    Elizabeth    NJ   7208   \n",
       "2      Wall      F               2481 Mills Lock   Plainfield    NJ   7060   \n",
       "3   Escobar      M              61390 Hayes Port      Romulus    MI  48174   \n",
       "4    Brooks      F    50872 Alex Plain Suite 088  Baton Rouge    LA  70808   \n",
       "\n",
       "       lat      long  city_pop                                job         dob  \\\n",
       "0  48.8878 -118.2105       149  Special educational needs teacher  1978-06-21   \n",
       "1  40.6747  -74.2239    124967             Operational researcher  1980-12-21   \n",
       "2  40.6152  -74.4150     71485             Leisure centre manager  1974-07-19   \n",
       "3  42.2203  -83.3583     31515                     Police officer  1971-11-05   \n",
       "4  30.4066  -91.1468    378909                Designer, furniture  1977-02-22   \n",
       "\n",
       "                          trans_num   unix_time  merch_lat  merch_long  \\\n",
       "0  1f76529f8574734946361c461b024d99  1325376044  49.159047 -118.186462   \n",
       "1  09eff9c806365e2a6be12c1bbab3d70e  1325376754  40.079588  -74.848087   \n",
       "2  19e23c6a300c774354417befe4f31f8c  1325377036  40.021888  -74.228188   \n",
       "3  6f363661ba6b55889e488dd178f2a0af  1325377215  42.360426  -83.552316   \n",
       "4  1654da2abfb9e79a5f99167fc9779558  1325377421  29.737426  -90.853194   \n",
       "\n",
       "   is_fraud  \n",
       "0         0  \n",
       "1         0  \n",
       "2         0  \n",
       "3         0  \n",
       "4         0  "
      ]
     },
     "execution_count": 5,
     "metadata": {},
     "output_type": "execute_result"
    }
   ],
   "source": [
    "cc_df.head()"
   ]
  },
  {
   "cell_type": "code",
   "execution_count": 6,
   "id": "ebf2a680",
   "metadata": {},
   "outputs": [
    {
     "name": "stdout",
     "output_type": "stream",
     "text": [
      "<class 'pandas.core.frame.DataFrame'>\n",
      "RangeIndex: 491134 entries, 0 to 491133\n",
      "Data columns (total 22 columns):\n",
      " #   Column                 Non-Null Count   Dtype  \n",
      "---  ------                 --------------   -----  \n",
      " 0   trans_date_trans_time  491134 non-null  object \n",
      " 1   cc_num                 491134 non-null  int64  \n",
      " 2   merchant               491134 non-null  object \n",
      " 3   category               491134 non-null  object \n",
      " 4   amt                    491134 non-null  float64\n",
      " 5   first                  491134 non-null  object \n",
      " 6   last                   491134 non-null  object \n",
      " 7   gender                 491134 non-null  object \n",
      " 8   street                 491134 non-null  object \n",
      " 9   city                   491134 non-null  object \n",
      " 10  state                  491134 non-null  object \n",
      " 11  zip                    491134 non-null  int64  \n",
      " 12  lat                    491134 non-null  float64\n",
      " 13  long                   491134 non-null  float64\n",
      " 14  city_pop               491134 non-null  int64  \n",
      " 15  job                    491134 non-null  object \n",
      " 16  dob                    491134 non-null  object \n",
      " 17  trans_num              491134 non-null  object \n",
      " 18  unix_time              491134 non-null  int64  \n",
      " 19  merch_lat              491134 non-null  float64\n",
      " 20  merch_long             491134 non-null  float64\n",
      " 21  is_fraud               491134 non-null  int64  \n",
      "dtypes: float64(5), int64(5), object(12)\n",
      "memory usage: 82.4+ MB\n"
     ]
    }
   ],
   "source": [
    "cc_df.info()"
   ]
  },
  {
   "cell_type": "code",
   "execution_count": 7,
   "id": "6c2ac71b",
   "metadata": {},
   "outputs": [
    {
     "data": {
      "text/html": [
       "<div>\n",
       "<style scoped>\n",
       "    .dataframe tbody tr th:only-of-type {\n",
       "        vertical-align: middle;\n",
       "    }\n",
       "\n",
       "    .dataframe tbody tr th {\n",
       "        vertical-align: top;\n",
       "    }\n",
       "\n",
       "    .dataframe thead th {\n",
       "        text-align: right;\n",
       "    }\n",
       "</style>\n",
       "<table border=\"1\" class=\"dataframe\">\n",
       "  <thead>\n",
       "    <tr style=\"text-align: right;\">\n",
       "      <th></th>\n",
       "      <th>cc_num</th>\n",
       "      <th>amt</th>\n",
       "      <th>zip</th>\n",
       "      <th>lat</th>\n",
       "      <th>long</th>\n",
       "      <th>city_pop</th>\n",
       "      <th>unix_time</th>\n",
       "      <th>merch_lat</th>\n",
       "      <th>merch_long</th>\n",
       "      <th>is_fraud</th>\n",
       "    </tr>\n",
       "  </thead>\n",
       "  <tbody>\n",
       "    <tr>\n",
       "      <th>count</th>\n",
       "      <td>4.911340e+05</td>\n",
       "      <td>491134.000000</td>\n",
       "      <td>491134.000000</td>\n",
       "      <td>491134.000000</td>\n",
       "      <td>491134.000000</td>\n",
       "      <td>4.911340e+05</td>\n",
       "      <td>4.911340e+05</td>\n",
       "      <td>491134.000000</td>\n",
       "      <td>491134.000000</td>\n",
       "      <td>491134.000000</td>\n",
       "    </tr>\n",
       "    <tr>\n",
       "      <th>mean</th>\n",
       "      <td>3.706013e+17</td>\n",
       "      <td>69.050120</td>\n",
       "      <td>50770.532384</td>\n",
       "      <td>37.931230</td>\n",
       "      <td>-90.495619</td>\n",
       "      <td>1.213922e+05</td>\n",
       "      <td>1.358730e+09</td>\n",
       "      <td>37.930272</td>\n",
       "      <td>-90.495411</td>\n",
       "      <td>0.002533</td>\n",
       "    </tr>\n",
       "    <tr>\n",
       "      <th>std</th>\n",
       "      <td>1.260229e+18</td>\n",
       "      <td>160.322867</td>\n",
       "      <td>26854.947965</td>\n",
       "      <td>5.341193</td>\n",
       "      <td>12.990732</td>\n",
       "      <td>3.725751e+05</td>\n",
       "      <td>1.819402e+07</td>\n",
       "      <td>5.372986</td>\n",
       "      <td>13.004100</td>\n",
       "      <td>0.050264</td>\n",
       "    </tr>\n",
       "    <tr>\n",
       "      <th>min</th>\n",
       "      <td>5.038744e+11</td>\n",
       "      <td>1.000000</td>\n",
       "      <td>1843.000000</td>\n",
       "      <td>24.655700</td>\n",
       "      <td>-122.345600</td>\n",
       "      <td>4.600000e+01</td>\n",
       "      <td>1.325376e+09</td>\n",
       "      <td>23.655789</td>\n",
       "      <td>-123.345106</td>\n",
       "      <td>0.000000</td>\n",
       "    </tr>\n",
       "    <tr>\n",
       "      <th>25%</th>\n",
       "      <td>2.131124e+14</td>\n",
       "      <td>8.960000</td>\n",
       "      <td>28405.000000</td>\n",
       "      <td>33.746700</td>\n",
       "      <td>-97.235100</td>\n",
       "      <td>1.228000e+03</td>\n",
       "      <td>1.343087e+09</td>\n",
       "      <td>33.781388</td>\n",
       "      <td>-96.984814</td>\n",
       "      <td>0.000000</td>\n",
       "    </tr>\n",
       "    <tr>\n",
       "      <th>50%</th>\n",
       "      <td>3.531130e+15</td>\n",
       "      <td>42.170000</td>\n",
       "      <td>49628.000000</td>\n",
       "      <td>38.507200</td>\n",
       "      <td>-87.591700</td>\n",
       "      <td>5.760000e+03</td>\n",
       "      <td>1.357257e+09</td>\n",
       "      <td>38.545124</td>\n",
       "      <td>-87.573441</td>\n",
       "      <td>0.000000</td>\n",
       "    </tr>\n",
       "    <tr>\n",
       "      <th>75%</th>\n",
       "      <td>4.653879e+15</td>\n",
       "      <td>80.330000</td>\n",
       "      <td>75048.000000</td>\n",
       "      <td>41.520500</td>\n",
       "      <td>-80.731000</td>\n",
       "      <td>5.083500e+04</td>\n",
       "      <td>1.374626e+09</td>\n",
       "      <td>41.624294</td>\n",
       "      <td>-80.685567</td>\n",
       "      <td>0.000000</td>\n",
       "    </tr>\n",
       "    <tr>\n",
       "      <th>max</th>\n",
       "      <td>4.956829e+18</td>\n",
       "      <td>25086.940000</td>\n",
       "      <td>99323.000000</td>\n",
       "      <td>48.887800</td>\n",
       "      <td>-69.965600</td>\n",
       "      <td>2.906700e+06</td>\n",
       "      <td>1.388534e+09</td>\n",
       "      <td>49.887523</td>\n",
       "      <td>-68.965624</td>\n",
       "      <td>1.000000</td>\n",
       "    </tr>\n",
       "  </tbody>\n",
       "</table>\n",
       "</div>"
      ],
      "text/plain": [
       "             cc_num            amt            zip            lat  \\\n",
       "count  4.911340e+05  491134.000000  491134.000000  491134.000000   \n",
       "mean   3.706013e+17      69.050120   50770.532384      37.931230   \n",
       "std    1.260229e+18     160.322867   26854.947965       5.341193   \n",
       "min    5.038744e+11       1.000000    1843.000000      24.655700   \n",
       "25%    2.131124e+14       8.960000   28405.000000      33.746700   \n",
       "50%    3.531130e+15      42.170000   49628.000000      38.507200   \n",
       "75%    4.653879e+15      80.330000   75048.000000      41.520500   \n",
       "max    4.956829e+18   25086.940000   99323.000000      48.887800   \n",
       "\n",
       "                long      city_pop     unix_time      merch_lat  \\\n",
       "count  491134.000000  4.911340e+05  4.911340e+05  491134.000000   \n",
       "mean      -90.495619  1.213922e+05  1.358730e+09      37.930272   \n",
       "std        12.990732  3.725751e+05  1.819402e+07       5.372986   \n",
       "min      -122.345600  4.600000e+01  1.325376e+09      23.655789   \n",
       "25%       -97.235100  1.228000e+03  1.343087e+09      33.781388   \n",
       "50%       -87.591700  5.760000e+03  1.357257e+09      38.545124   \n",
       "75%       -80.731000  5.083500e+04  1.374626e+09      41.624294   \n",
       "max       -69.965600  2.906700e+06  1.388534e+09      49.887523   \n",
       "\n",
       "          merch_long       is_fraud  \n",
       "count  491134.000000  491134.000000  \n",
       "mean      -90.495411       0.002533  \n",
       "std        13.004100       0.050264  \n",
       "min      -123.345106       0.000000  \n",
       "25%       -96.984814       0.000000  \n",
       "50%       -87.573441       0.000000  \n",
       "75%       -80.685567       0.000000  \n",
       "max       -68.965624       1.000000  "
      ]
     },
     "execution_count": 7,
     "metadata": {},
     "output_type": "execute_result"
    }
   ],
   "source": [
    "cc_df.describe()"
   ]
  },
  {
   "cell_type": "code",
   "execution_count": 8,
   "id": "d1d788f2",
   "metadata": {},
   "outputs": [
    {
     "data": {
      "text/plain": [
       "Index(['trans_date_trans_time', 'cc_num', 'merchant', 'category', 'amt',\n",
       "       'first', 'last', 'gender', 'street', 'city', 'state', 'zip', 'lat',\n",
       "       'long', 'city_pop', 'job', 'dob', 'trans_num', 'unix_time', 'merch_lat',\n",
       "       'merch_long', 'is_fraud'],\n",
       "      dtype='object')"
      ]
     },
     "execution_count": 8,
     "metadata": {},
     "output_type": "execute_result"
    }
   ],
   "source": [
    "cc_df.columns"
   ]
  },
  {
   "cell_type": "code",
   "execution_count": 9,
   "id": "fffc72ea",
   "metadata": {},
   "outputs": [
    {
     "data": {
      "text/plain": [
       "trans_date_trans_time    0\n",
       "cc_num                   0\n",
       "merchant                 0\n",
       "category                 0\n",
       "amt                      0\n",
       "first                    0\n",
       "last                     0\n",
       "gender                   0\n",
       "street                   0\n",
       "city                     0\n",
       "state                    0\n",
       "zip                      0\n",
       "lat                      0\n",
       "long                     0\n",
       "city_pop                 0\n",
       "job                      0\n",
       "dob                      0\n",
       "trans_num                0\n",
       "unix_time                0\n",
       "merch_lat                0\n",
       "merch_long               0\n",
       "is_fraud                 0\n",
       "dtype: int64"
      ]
     },
     "execution_count": 9,
     "metadata": {},
     "output_type": "execute_result"
    }
   ],
   "source": [
    "cc_df.isna().sum()"
   ]
  },
  {
   "cell_type": "code",
   "execution_count": 11,
   "id": "8a463a94",
   "metadata": {},
   "outputs": [
    {
     "data": {
      "text/plain": [
       "trans_date_trans_time    0\n",
       "cc_num                   0\n",
       "merchant                 0\n",
       "category                 0\n",
       "amt                      0\n",
       "first                    0\n",
       "last                     0\n",
       "gender                   0\n",
       "street                   0\n",
       "city                     0\n",
       "state                    0\n",
       "zip                      0\n",
       "lat                      0\n",
       "long                     0\n",
       "city_pop                 0\n",
       "job                      0\n",
       "dob                      0\n",
       "trans_num                0\n",
       "unix_time                0\n",
       "merch_lat                0\n",
       "merch_long               0\n",
       "is_fraud                 0\n",
       "dtype: int64"
      ]
     },
     "execution_count": 11,
     "metadata": {},
     "output_type": "execute_result"
    }
   ],
   "source": [
    "(cc_df == '').sum()"
   ]
  },
  {
   "cell_type": "code",
   "execution_count": 12,
   "id": "64c43f5e",
   "metadata": {},
   "outputs": [
    {
     "data": {
      "text/html": [
       "<div>\n",
       "<style scoped>\n",
       "    .dataframe tbody tr th:only-of-type {\n",
       "        vertical-align: middle;\n",
       "    }\n",
       "\n",
       "    .dataframe tbody tr th {\n",
       "        vertical-align: top;\n",
       "    }\n",
       "\n",
       "    .dataframe thead th {\n",
       "        text-align: right;\n",
       "    }\n",
       "</style>\n",
       "<table border=\"1\" class=\"dataframe\">\n",
       "  <thead>\n",
       "    <tr style=\"text-align: right;\">\n",
       "      <th></th>\n",
       "      <th>cc_num</th>\n",
       "      <th>amt</th>\n",
       "      <th>zip</th>\n",
       "      <th>lat</th>\n",
       "      <th>long</th>\n",
       "      <th>city_pop</th>\n",
       "      <th>unix_time</th>\n",
       "      <th>merch_lat</th>\n",
       "      <th>merch_long</th>\n",
       "      <th>is_fraud</th>\n",
       "    </tr>\n",
       "    <tr>\n",
       "      <th>gender</th>\n",
       "      <th></th>\n",
       "      <th></th>\n",
       "      <th></th>\n",
       "      <th></th>\n",
       "      <th></th>\n",
       "      <th></th>\n",
       "      <th></th>\n",
       "      <th></th>\n",
       "      <th></th>\n",
       "      <th></th>\n",
       "    </tr>\n",
       "  </thead>\n",
       "  <tbody>\n",
       "    <tr>\n",
       "      <th>F</th>\n",
       "      <td>3.662001e+17</td>\n",
       "      <td>72.573502</td>\n",
       "      <td>51556.664472</td>\n",
       "      <td>38.330205</td>\n",
       "      <td>-90.861844</td>\n",
       "      <td>108557.730880</td>\n",
       "      <td>1.358724e+09</td>\n",
       "      <td>38.328583</td>\n",
       "      <td>-90.861410</td>\n",
       "      <td>0.002406</td>\n",
       "    </tr>\n",
       "    <tr>\n",
       "      <th>M</th>\n",
       "      <td>3.817858e+17</td>\n",
       "      <td>60.096286</td>\n",
       "      <td>48772.765266</td>\n",
       "      <td>36.917329</td>\n",
       "      <td>-89.564944</td>\n",
       "      <td>154008.048677</td>\n",
       "      <td>1.358746e+09</td>\n",
       "      <td>36.918058</td>\n",
       "      <td>-89.565313</td>\n",
       "      <td>0.002855</td>\n",
       "    </tr>\n",
       "  </tbody>\n",
       "</table>\n",
       "</div>"
      ],
      "text/plain": [
       "              cc_num        amt           zip        lat       long  \\\n",
       "gender                                                                \n",
       "F       3.662001e+17  72.573502  51556.664472  38.330205 -90.861844   \n",
       "M       3.817858e+17  60.096286  48772.765266  36.917329 -89.564944   \n",
       "\n",
       "             city_pop     unix_time  merch_lat  merch_long  is_fraud  \n",
       "gender                                                                \n",
       "F       108557.730880  1.358724e+09  38.328583  -90.861410  0.002406  \n",
       "M       154008.048677  1.358746e+09  36.918058  -89.565313  0.002855  "
      ]
     },
     "execution_count": 12,
     "metadata": {},
     "output_type": "execute_result"
    }
   ],
   "source": [
    "cc_df.groupby('gender').mean()"
   ]
  },
  {
   "cell_type": "code",
   "execution_count": 15,
   "id": "ba1eebf0",
   "metadata": {},
   "outputs": [
    {
     "data": {
      "text/plain": [
       "0         False\n",
       "1         False\n",
       "2         False\n",
       "3         False\n",
       "4         False\n",
       "          ...  \n",
       "491129    False\n",
       "491130    False\n",
       "491131    False\n",
       "491132    False\n",
       "491133    False\n",
       "Name: is_fraud, Length: 491134, dtype: bool"
      ]
     },
     "execution_count": 15,
     "metadata": {},
     "output_type": "execute_result"
    }
   ],
   "source": [
    "cc_df['is_fraud'].isna() # 사기 거래 여부 결측치 X"
   ]
  },
  {
   "cell_type": "code",
   "execution_count": 16,
   "id": "2f17e323",
   "metadata": {},
   "outputs": [],
   "source": [
    "# lat : 거주지의 위도, long : 거주지의 경도 / merch_lat : 가맹정 위도, merch_long : 가맹정 경도 \n",
    "# 위도 경도..... 그 영화에서만 듣던거 같은데 뭐 어쩌라는 거지....."
   ]
  },
  {
   "cell_type": "code",
   "execution_count": 17,
   "id": "aae3422a",
   "metadata": {},
   "outputs": [
    {
     "data": {
      "text/plain": [
       "124"
      ]
     },
     "execution_count": 17,
     "metadata": {},
     "output_type": "execute_result"
    }
   ],
   "source": [
    "cc_df['cc_num'].nunique() # 카드번호 같은데.. 이걸 알 필요가 있을까?"
   ]
  },
  {
   "cell_type": "code",
   "execution_count": 18,
   "id": "42d3664c",
   "metadata": {},
   "outputs": [
    {
     "data": {
      "text/plain": [
       "array([       630423337322, 4956828990005111019,     180048185037117,\n",
       "           374930071163758,    2712209726293386,    3598215285024754,\n",
       "           213141712584544,        676372984911,    4642255475285942,\n",
       "          3553629419254918,    2720433095629877,    4716561796955522,\n",
       "       4512828414983801773,      30273037698427,    6011893664860915,\n",
       "          6534628260579800,        571365235126,     213112402583773,\n",
       "          3502088871723054,    3518234918950662,      30270432095985,\n",
       "          6011104316292105,    6011504998544485,    3511378610369890,\n",
       "          6011367958204270,    4653879239169997,    3583635130604947,\n",
       "          3541160328600277, 4646845581490336108,    3575789281659026,\n",
       "          4302480582202074,    3533742182628021,    4364010865167176,\n",
       "             4745996322265,    3576431665303017,    3566094707272327,\n",
       "          2264937662466770,     377026671291680,       4681699462969,\n",
       "           340953839692349,     373905417449658,        581686439828,\n",
       "       4587657402165341815,    3596217206093829,    4099707841315751,\n",
       "          4452366298769043,    2242542703101233,    6011438889172900,\n",
       "       4797297220948468262,        503874407318,    3543591270174051,\n",
       "          4586810168620942,    3531129874770000,      36913587729122,\n",
       "           213156747557083,    4939976756738216,    2254917871818484,\n",
       "             4464457352619,    4836998673805450,     180036456789979,\n",
       "           213157767990030,     342952484382519,    3595192916105588,\n",
       "          3527536963490470,      30238755902988,        639023984367,\n",
       "          3590736522064285,    3567697931646329,    3551217896304745,\n",
       "          6011109736646996,     344709867813900,      30234966027947,\n",
       "            30044330818990, 4536996888716062123,     371226440126102,\n",
       "              630424987505,    4681601008538160,      30131826429364,\n",
       "           370877495212014,     372509258176510,    3556613125071656,\n",
       "          6538891242532018,    6011652924285713,    6011348830550197,\n",
       "             4561546772499, 4861310130652566408,    3560797065840735,\n",
       "           345933964507467,    4904681492230012,     180094419304907,\n",
       "            30551643947183,    3525590521269779,    3576021480694169,\n",
       "          3545109339866548,      36722699017270,    3589255887819806,\n",
       "       4181833256558613886,    4003989662068504,    2283743876903625,\n",
       "             4755696071492, 4792627764422477317,     376445266762684,\n",
       "          4908846471916297,        630451534402,    6538441737335434,\n",
       "          3586008444788268,     346273234529002,      38052002992326,\n",
       "          6011724471098086,    4170689372027579,    3518669219150142,\n",
       "       4906628655840914250,    6011693194885790,        567868110212,\n",
       "             4900628639996,      30235438713303,      30199621383748,\n",
       "          3589289942931264,    3500969075198072,    3521417320836166,\n",
       "          4005676619255478,     180031190491743,     372520049757633,\n",
       "          5540636818935089])"
      ]
     },
     "execution_count": 18,
     "metadata": {},
     "output_type": "execute_result"
    }
   ],
   "source": [
    "cc_df['cc_num'].unique()"
   ]
  },
  {
   "cell_type": "code",
   "execution_count": 19,
   "id": "160b152d",
   "metadata": {},
   "outputs": [
    {
     "data": {
      "text/plain": [
       "693"
      ]
     },
     "execution_count": 19,
     "metadata": {},
     "output_type": "execute_result"
    }
   ],
   "source": [
    "cc_df['merchant'].nunique() # 가게이름인거 같은데 너무 많은데?"
   ]
  },
  {
   "cell_type": "code",
   "execution_count": 20,
   "id": "cff4ab60",
   "metadata": {},
   "outputs": [
    {
     "data": {
      "text/plain": [
       "14"
      ]
     },
     "execution_count": 20,
     "metadata": {},
     "output_type": "execute_result"
    }
   ],
   "source": [
    "cc_df['category'].nunique() # 업종 같은데 이 정도면 적당한 듯"
   ]
  },
  {
   "cell_type": "code",
   "execution_count": 22,
   "id": "efa62d1f",
   "metadata": {},
   "outputs": [
    {
     "data": {
      "text/plain": [
       "122"
      ]
     },
     "execution_count": 22,
     "metadata": {},
     "output_type": "execute_result"
    }
   ],
   "source": [
    "cc_df['city_pop'].nunique() # "
   ]
  },
  {
   "cell_type": "code",
   "execution_count": 30,
   "id": "7a5958c1",
   "metadata": {},
   "outputs": [
    {
     "data": {
      "text/plain": [
       "0         False\n",
       "1         False\n",
       "2         False\n",
       "3         False\n",
       "4         False\n",
       "          ...  \n",
       "491129    False\n",
       "491130    False\n",
       "491131    False\n",
       "491132    False\n",
       "491133    False\n",
       "Name: city, Length: 491134, dtype: bool"
      ]
     },
     "execution_count": 30,
     "metadata": {},
     "output_type": "execute_result"
    }
   ],
   "source": [
    "cc_df['city'].isna()"
   ]
  },
  {
   "cell_type": "code",
   "execution_count": 31,
   "id": "42d5c091",
   "metadata": {},
   "outputs": [
    {
     "data": {
      "text/plain": [
       "92"
      ]
     },
     "execution_count": 31,
     "metadata": {},
     "output_type": "execute_result"
    }
   ],
   "source": [
    "cc_df['first'].nunique() # "
   ]
  },
  {
   "cell_type": "code",
   "execution_count": 34,
   "id": "17fae0b9",
   "metadata": {},
   "outputs": [
    {
     "data": {
      "text/plain": [
       "110"
      ]
     },
     "execution_count": 34,
     "metadata": {},
     "output_type": "execute_result"
    }
   ],
   "source": [
    "cc_df['job'].nunique() # 직업은 필요할거 같은데....."
   ]
  },
  {
   "cell_type": "code",
   "execution_count": 36,
   "id": "8ca66231",
   "metadata": {},
   "outputs": [
    {
     "data": {
      "text/plain": [
       "123"
      ]
     },
     "execution_count": 36,
     "metadata": {},
     "output_type": "execute_result"
    }
   ],
   "source": [
    "cc_df['dob'].nunique() # 몇 살 인지는 필요할 거 같지?"
   ]
  },
  {
   "cell_type": "code",
   "execution_count": 37,
   "id": "afddb51d",
   "metadata": {},
   "outputs": [
    {
     "data": {
      "text/plain": [
       "488477"
      ]
     },
     "execution_count": 37,
     "metadata": {},
     "output_type": "execute_result"
    }
   ],
   "source": [
    "cc_df['unix_time'].nunique() # 이건 도대체 뭐냐......"
   ]
  },
  {
   "cell_type": "code",
   "execution_count": 38,
   "id": "020b338d",
   "metadata": {},
   "outputs": [],
   "source": [
    "cc_df.drop(columns=['trans_num', 'cc_num'], inplace = True) # 카드 번호와 거래 ID는 과감하게 없애버린다"
   ]
  },
  {
   "cell_type": "code",
   "execution_count": 40,
   "id": "7cd50ef9",
   "metadata": {},
   "outputs": [],
   "source": [
    "cc_df_new = cc_df.drop(['first', 'last', 'street', 'city', 'state', 'zip', 'job', 'dob'], axis=1)\n",
    "# 이것보다 더 지운다는데 나는 쫄려서 못 하겠다. 이것만 지운다."
   ]
  },
  {
   "cell_type": "code",
   "execution_count": 41,
   "id": "96b454d8",
   "metadata": {},
   "outputs": [
    {
     "name": "stdout",
     "output_type": "stream",
     "text": [
      "<class 'pandas.core.frame.DataFrame'>\n",
      "RangeIndex: 491134 entries, 0 to 491133\n",
      "Data columns (total 12 columns):\n",
      " #   Column                 Non-Null Count   Dtype  \n",
      "---  ------                 --------------   -----  \n",
      " 0   trans_date_trans_time  491134 non-null  object \n",
      " 1   merchant               491134 non-null  object \n",
      " 2   category               491134 non-null  object \n",
      " 3   amt                    491134 non-null  float64\n",
      " 4   gender                 491134 non-null  object \n",
      " 5   lat                    491134 non-null  float64\n",
      " 6   long                   491134 non-null  float64\n",
      " 7   city_pop               491134 non-null  int64  \n",
      " 8   unix_time              491134 non-null  int64  \n",
      " 9   merch_lat              491134 non-null  float64\n",
      " 10  merch_long             491134 non-null  float64\n",
      " 11  is_fraud               491134 non-null  int64  \n",
      "dtypes: float64(5), int64(3), object(4)\n",
      "memory usage: 45.0+ MB\n"
     ]
    }
   ],
   "source": [
    "cc_df_new.info()"
   ]
  },
  {
   "cell_type": "code",
   "execution_count": 42,
   "id": "7856eec2",
   "metadata": {},
   "outputs": [
    {
     "data": {
      "text/html": [
       "<div>\n",
       "<style scoped>\n",
       "    .dataframe tbody tr th:only-of-type {\n",
       "        vertical-align: middle;\n",
       "    }\n",
       "\n",
       "    .dataframe tbody tr th {\n",
       "        vertical-align: top;\n",
       "    }\n",
       "\n",
       "    .dataframe thead th {\n",
       "        text-align: right;\n",
       "    }\n",
       "</style>\n",
       "<table border=\"1\" class=\"dataframe\">\n",
       "  <thead>\n",
       "    <tr style=\"text-align: right;\">\n",
       "      <th></th>\n",
       "      <th>amt</th>\n",
       "      <th>lat</th>\n",
       "      <th>long</th>\n",
       "      <th>city_pop</th>\n",
       "      <th>unix_time</th>\n",
       "      <th>merch_lat</th>\n",
       "      <th>merch_long</th>\n",
       "      <th>is_fraud</th>\n",
       "    </tr>\n",
       "  </thead>\n",
       "  <tbody>\n",
       "    <tr>\n",
       "      <th>count</th>\n",
       "      <td>491134.000000</td>\n",
       "      <td>491134.000000</td>\n",
       "      <td>491134.000000</td>\n",
       "      <td>4.911340e+05</td>\n",
       "      <td>4.911340e+05</td>\n",
       "      <td>491134.000000</td>\n",
       "      <td>491134.000000</td>\n",
       "      <td>491134.000000</td>\n",
       "    </tr>\n",
       "    <tr>\n",
       "      <th>mean</th>\n",
       "      <td>69.050120</td>\n",
       "      <td>37.931230</td>\n",
       "      <td>-90.495619</td>\n",
       "      <td>1.213922e+05</td>\n",
       "      <td>1.358730e+09</td>\n",
       "      <td>37.930272</td>\n",
       "      <td>-90.495411</td>\n",
       "      <td>0.002533</td>\n",
       "    </tr>\n",
       "    <tr>\n",
       "      <th>std</th>\n",
       "      <td>160.322867</td>\n",
       "      <td>5.341193</td>\n",
       "      <td>12.990732</td>\n",
       "      <td>3.725751e+05</td>\n",
       "      <td>1.819402e+07</td>\n",
       "      <td>5.372986</td>\n",
       "      <td>13.004100</td>\n",
       "      <td>0.050264</td>\n",
       "    </tr>\n",
       "    <tr>\n",
       "      <th>min</th>\n",
       "      <td>1.000000</td>\n",
       "      <td>24.655700</td>\n",
       "      <td>-122.345600</td>\n",
       "      <td>4.600000e+01</td>\n",
       "      <td>1.325376e+09</td>\n",
       "      <td>23.655789</td>\n",
       "      <td>-123.345106</td>\n",
       "      <td>0.000000</td>\n",
       "    </tr>\n",
       "    <tr>\n",
       "      <th>25%</th>\n",
       "      <td>8.960000</td>\n",
       "      <td>33.746700</td>\n",
       "      <td>-97.235100</td>\n",
       "      <td>1.228000e+03</td>\n",
       "      <td>1.343087e+09</td>\n",
       "      <td>33.781388</td>\n",
       "      <td>-96.984814</td>\n",
       "      <td>0.000000</td>\n",
       "    </tr>\n",
       "    <tr>\n",
       "      <th>50%</th>\n",
       "      <td>42.170000</td>\n",
       "      <td>38.507200</td>\n",
       "      <td>-87.591700</td>\n",
       "      <td>5.760000e+03</td>\n",
       "      <td>1.357257e+09</td>\n",
       "      <td>38.545124</td>\n",
       "      <td>-87.573441</td>\n",
       "      <td>0.000000</td>\n",
       "    </tr>\n",
       "    <tr>\n",
       "      <th>75%</th>\n",
       "      <td>80.330000</td>\n",
       "      <td>41.520500</td>\n",
       "      <td>-80.731000</td>\n",
       "      <td>5.083500e+04</td>\n",
       "      <td>1.374626e+09</td>\n",
       "      <td>41.624294</td>\n",
       "      <td>-80.685567</td>\n",
       "      <td>0.000000</td>\n",
       "    </tr>\n",
       "    <tr>\n",
       "      <th>max</th>\n",
       "      <td>25086.940000</td>\n",
       "      <td>48.887800</td>\n",
       "      <td>-69.965600</td>\n",
       "      <td>2.906700e+06</td>\n",
       "      <td>1.388534e+09</td>\n",
       "      <td>49.887523</td>\n",
       "      <td>-68.965624</td>\n",
       "      <td>1.000000</td>\n",
       "    </tr>\n",
       "  </tbody>\n",
       "</table>\n",
       "</div>"
      ],
      "text/plain": [
       "                 amt            lat           long      city_pop  \\\n",
       "count  491134.000000  491134.000000  491134.000000  4.911340e+05   \n",
       "mean       69.050120      37.931230     -90.495619  1.213922e+05   \n",
       "std       160.322867       5.341193      12.990732  3.725751e+05   \n",
       "min         1.000000      24.655700    -122.345600  4.600000e+01   \n",
       "25%         8.960000      33.746700     -97.235100  1.228000e+03   \n",
       "50%        42.170000      38.507200     -87.591700  5.760000e+03   \n",
       "75%        80.330000      41.520500     -80.731000  5.083500e+04   \n",
       "max     25086.940000      48.887800     -69.965600  2.906700e+06   \n",
       "\n",
       "          unix_time      merch_lat     merch_long       is_fraud  \n",
       "count  4.911340e+05  491134.000000  491134.000000  491134.000000  \n",
       "mean   1.358730e+09      37.930272     -90.495411       0.002533  \n",
       "std    1.819402e+07       5.372986      13.004100       0.050264  \n",
       "min    1.325376e+09      23.655789    -123.345106       0.000000  \n",
       "25%    1.343087e+09      33.781388     -96.984814       0.000000  \n",
       "50%    1.357257e+09      38.545124     -87.573441       0.000000  \n",
       "75%    1.374626e+09      41.624294     -80.685567       0.000000  \n",
       "max    1.388534e+09      49.887523     -68.965624       1.000000  "
      ]
     },
     "execution_count": 42,
     "metadata": {},
     "output_type": "execute_result"
    }
   ],
   "source": [
    "cc_df_new.describe()"
   ]
  },
  {
   "cell_type": "markdown",
   "id": "586dc199",
   "metadata": {},
   "source": [
    "사기 거래 여부를 예측하는 데 불필요한 컬럼을 제거했는데.. 잘 하고 있는지 모르겠다.. \n",
    "모델 학습에 필요 없을 것으료 예측 되는 녀석들은 new라는 변수로 다시 생성 했다."
   ]
  },
  {
   "cell_type": "code",
   "execution_count": null,
   "id": "8649c897",
   "metadata": {},
   "outputs": [],
   "source": [
    "최소 2개 이상의 새로운 피처(변수)를 생성해봅시다. [힌트] 구매 금액, 시간 등의 변수를 이용할 수 있습니다.\n",
    "날짜가 젤 쉽다고 한다. 그래 일단 2개 뭐라도 해 보자"
   ]
  },
  {
   "cell_type": "code",
   "execution_count": 44,
   "id": "fcfcf0ab",
   "metadata": {},
   "outputs": [],
   "source": [
    "cc_df['trans_date_trans_time'] = pd.to_datetime(cc_df['trans_date_trans_time'])\n",
    "# datetime 형식으로 변환했따"
   ]
  },
  {
   "cell_type": "code",
   "execution_count": 45,
   "id": "feea6e2f",
   "metadata": {},
   "outputs": [],
   "source": [
    "cc_df['hour'] = cc_df['trans_date_trans_time'].dt.hour # 시간 추출 0 ~ 23 \n",
    "cc_df['day_of_week'] = cc_df['trans_date_trans_time'].dt.dayofweek # 요일 추출 0:월요일 / 6: 일요일  "
   ]
  },
  {
   "cell_type": "code",
   "execution_count": 52,
   "id": "26e564d1",
   "metadata": {},
   "outputs": [
    {
     "data": {
      "text/html": [
       "<div>\n",
       "<style scoped>\n",
       "    .dataframe tbody tr th:only-of-type {\n",
       "        vertical-align: middle;\n",
       "    }\n",
       "\n",
       "    .dataframe tbody tr th {\n",
       "        vertical-align: top;\n",
       "    }\n",
       "\n",
       "    .dataframe thead th {\n",
       "        text-align: right;\n",
       "    }\n",
       "</style>\n",
       "<table border=\"1\" class=\"dataframe\">\n",
       "  <thead>\n",
       "    <tr style=\"text-align: right;\">\n",
       "      <th></th>\n",
       "      <th>hour</th>\n",
       "      <th>day_of_week</th>\n",
       "    </tr>\n",
       "  </thead>\n",
       "  <tbody>\n",
       "    <tr>\n",
       "      <th>0</th>\n",
       "      <td>0</td>\n",
       "      <td>1</td>\n",
       "    </tr>\n",
       "    <tr>\n",
       "      <th>1</th>\n",
       "      <td>0</td>\n",
       "      <td>1</td>\n",
       "    </tr>\n",
       "    <tr>\n",
       "      <th>2</th>\n",
       "      <td>0</td>\n",
       "      <td>1</td>\n",
       "    </tr>\n",
       "    <tr>\n",
       "      <th>3</th>\n",
       "      <td>0</td>\n",
       "      <td>1</td>\n",
       "    </tr>\n",
       "    <tr>\n",
       "      <th>4</th>\n",
       "      <td>0</td>\n",
       "      <td>1</td>\n",
       "    </tr>\n",
       "  </tbody>\n",
       "</table>\n",
       "</div>"
      ],
      "text/plain": [
       "   hour  day_of_week\n",
       "0     0            1\n",
       "1     0            1\n",
       "2     0            1\n",
       "3     0            1\n",
       "4     0            1"
      ]
     },
     "execution_count": 52,
     "metadata": {},
     "output_type": "execute_result"
    }
   ],
   "source": [
    "cc_df[['hour', 'day_of_week']].head()"
   ]
  },
  {
   "cell_type": "code",
   "execution_count": 50,
   "id": "065682cf",
   "metadata": {},
   "outputs": [
    {
     "data": {
      "text/html": [
       "<div>\n",
       "<style scoped>\n",
       "    .dataframe tbody tr th:only-of-type {\n",
       "        vertical-align: middle;\n",
       "    }\n",
       "\n",
       "    .dataframe tbody tr th {\n",
       "        vertical-align: top;\n",
       "    }\n",
       "\n",
       "    .dataframe thead th {\n",
       "        text-align: right;\n",
       "    }\n",
       "</style>\n",
       "<table border=\"1\" class=\"dataframe\">\n",
       "  <thead>\n",
       "    <tr style=\"text-align: right;\">\n",
       "      <th></th>\n",
       "      <th>hour</th>\n",
       "      <th>day_of_week</th>\n",
       "    </tr>\n",
       "  </thead>\n",
       "  <tbody>\n",
       "    <tr>\n",
       "      <th>491129</th>\n",
       "      <td>23</td>\n",
       "      <td>3</td>\n",
       "    </tr>\n",
       "    <tr>\n",
       "      <th>491130</th>\n",
       "      <td>23</td>\n",
       "      <td>3</td>\n",
       "    </tr>\n",
       "    <tr>\n",
       "      <th>491131</th>\n",
       "      <td>23</td>\n",
       "      <td>3</td>\n",
       "    </tr>\n",
       "    <tr>\n",
       "      <th>491132</th>\n",
       "      <td>23</td>\n",
       "      <td>3</td>\n",
       "    </tr>\n",
       "    <tr>\n",
       "      <th>491133</th>\n",
       "      <td>23</td>\n",
       "      <td>3</td>\n",
       "    </tr>\n",
       "  </tbody>\n",
       "</table>\n",
       "</div>"
      ],
      "text/plain": [
       "        hour  day_of_week\n",
       "491129    23            3\n",
       "491130    23            3\n",
       "491131    23            3\n",
       "491132    23            3\n",
       "491133    23            3"
      ]
     },
     "execution_count": 50,
     "metadata": {},
     "output_type": "execute_result"
    }
   ],
   "source": [
    "cc_df[['hour', 'day_of_week']].tail() # 왜 3 목요일이 마지막에 나올까?"
   ]
  },
  {
   "cell_type": "code",
   "execution_count": 53,
   "id": "3cba5f18",
   "metadata": {},
   "outputs": [
    {
     "data": {
      "text/plain": [
       "0    98667\n",
       "6    93502\n",
       "1    70992\n",
       "5    69844\n",
       "4    56346\n",
       "3    53834\n",
       "2    47949\n",
       "Name: day_of_week, dtype: int64"
      ]
     },
     "execution_count": 53,
     "metadata": {},
     "output_type": "execute_result"
    }
   ],
   "source": [
    "cc_df['day_of_week'].value_counts()"
   ]
  },
  {
   "cell_type": "code",
   "execution_count": 56,
   "id": "3555f99e",
   "metadata": {},
   "outputs": [
    {
     "data": {
      "text/plain": [
       "0.447315803833577"
      ]
     },
     "execution_count": 56,
     "metadata": {},
     "output_type": "execute_result"
    }
   ],
   "source": [
    "cc_df['day_of_week'].isin([4, 5, 6]).mean() # 어딘가에 있긴 한가 보네 더 건들지말자 무섭다"
   ]
  },
  {
   "cell_type": "code",
   "execution_count": 57,
   "id": "1ee58346",
   "metadata": {},
   "outputs": [],
   "source": [
    "cc_df['log_amt'] = np.log1p(cc_df['amt']) # 거래 금액을 바꿀 수가 있다고 한다"
   ]
  },
  {
   "cell_type": "code",
   "execution_count": 59,
   "id": "964974fe",
   "metadata": {},
   "outputs": [
    {
     "data": {
      "text/html": [
       "<div>\n",
       "<style scoped>\n",
       "    .dataframe tbody tr th:only-of-type {\n",
       "        vertical-align: middle;\n",
       "    }\n",
       "\n",
       "    .dataframe tbody tr th {\n",
       "        vertical-align: top;\n",
       "    }\n",
       "\n",
       "    .dataframe thead th {\n",
       "        text-align: right;\n",
       "    }\n",
       "</style>\n",
       "<table border=\"1\" class=\"dataframe\">\n",
       "  <thead>\n",
       "    <tr style=\"text-align: right;\">\n",
       "      <th></th>\n",
       "      <th>amt</th>\n",
       "      <th>log_amt</th>\n",
       "    </tr>\n",
       "  </thead>\n",
       "  <tbody>\n",
       "    <tr>\n",
       "      <th>0</th>\n",
       "      <td>107.23</td>\n",
       "      <td>4.684259</td>\n",
       "    </tr>\n",
       "    <tr>\n",
       "      <th>1</th>\n",
       "      <td>44.71</td>\n",
       "      <td>3.822317</td>\n",
       "    </tr>\n",
       "    <tr>\n",
       "      <th>2</th>\n",
       "      <td>46.28</td>\n",
       "      <td>3.856087</td>\n",
       "    </tr>\n",
       "    <tr>\n",
       "      <th>3</th>\n",
       "      <td>64.09</td>\n",
       "      <td>4.175771</td>\n",
       "    </tr>\n",
       "    <tr>\n",
       "      <th>4</th>\n",
       "      <td>25.58</td>\n",
       "      <td>3.280159</td>\n",
       "    </tr>\n",
       "  </tbody>\n",
       "</table>\n",
       "</div>"
      ],
      "text/plain": [
       "      amt   log_amt\n",
       "0  107.23  4.684259\n",
       "1   44.71  3.822317\n",
       "2   46.28  3.856087\n",
       "3   64.09  4.175771\n",
       "4   25.58  3.280159"
      ]
     },
     "execution_count": 59,
     "metadata": {},
     "output_type": "execute_result"
    }
   ],
   "source": [
    "cc_df[['amt', 'log_amt']].head() # 시실 뭐 한건지 모르겠다."
   ]
  },
  {
   "cell_type": "markdown",
   "id": "2e6d6b8f",
   "metadata": {},
   "source": [
    "거래한 위치와 가맹정의 위치 사이의 거리를 계산? 멀리 떨어져 있으면 사기 확률이 높아진다?\n",
    "우리나라에서 사기 안치고 중국, 동남아에서 사기 치듯이?"
   ]
  },
  {
   "cell_type": "code",
   "execution_count": 63,
   "id": "c9118d08",
   "metadata": {},
   "outputs": [],
   "source": [
    "cc_df['lat_diff'] = abs(cc_df['lat'] - cc_df['merch_lat']) # lat_diff 위도 차이\n",
    "cc_df['long_diff'] = abs(cc_df['long'] - cc_df['merch_long']) # long_diff 경도 차이\n",
    "# abs는 절댓값을 구하는 함수."
   ]
  },
  {
   "cell_type": "code",
   "execution_count": 62,
   "id": "c187e175",
   "metadata": {},
   "outputs": [
    {
     "data": {
      "text/html": [
       "<div>\n",
       "<style scoped>\n",
       "    .dataframe tbody tr th:only-of-type {\n",
       "        vertical-align: middle;\n",
       "    }\n",
       "\n",
       "    .dataframe tbody tr th {\n",
       "        vertical-align: top;\n",
       "    }\n",
       "\n",
       "    .dataframe thead th {\n",
       "        text-align: right;\n",
       "    }\n",
       "</style>\n",
       "<table border=\"1\" class=\"dataframe\">\n",
       "  <thead>\n",
       "    <tr style=\"text-align: right;\">\n",
       "      <th></th>\n",
       "      <th>lat</th>\n",
       "      <th>long</th>\n",
       "      <th>merch_lat</th>\n",
       "      <th>merch_long</th>\n",
       "      <th>lat_diff</th>\n",
       "      <th>long_diff</th>\n",
       "    </tr>\n",
       "  </thead>\n",
       "  <tbody>\n",
       "    <tr>\n",
       "      <th>0</th>\n",
       "      <td>48.8878</td>\n",
       "      <td>-118.2105</td>\n",
       "      <td>49.159047</td>\n",
       "      <td>-118.186462</td>\n",
       "      <td>0.271247</td>\n",
       "      <td>0.024038</td>\n",
       "    </tr>\n",
       "    <tr>\n",
       "      <th>1</th>\n",
       "      <td>40.6747</td>\n",
       "      <td>-74.2239</td>\n",
       "      <td>40.079588</td>\n",
       "      <td>-74.848087</td>\n",
       "      <td>0.595112</td>\n",
       "      <td>0.624187</td>\n",
       "    </tr>\n",
       "    <tr>\n",
       "      <th>2</th>\n",
       "      <td>40.6152</td>\n",
       "      <td>-74.4150</td>\n",
       "      <td>40.021888</td>\n",
       "      <td>-74.228188</td>\n",
       "      <td>0.593312</td>\n",
       "      <td>0.186812</td>\n",
       "    </tr>\n",
       "    <tr>\n",
       "      <th>3</th>\n",
       "      <td>42.2203</td>\n",
       "      <td>-83.3583</td>\n",
       "      <td>42.360426</td>\n",
       "      <td>-83.552316</td>\n",
       "      <td>0.140126</td>\n",
       "      <td>0.194016</td>\n",
       "    </tr>\n",
       "    <tr>\n",
       "      <th>4</th>\n",
       "      <td>30.4066</td>\n",
       "      <td>-91.1468</td>\n",
       "      <td>29.737426</td>\n",
       "      <td>-90.853194</td>\n",
       "      <td>0.669174</td>\n",
       "      <td>0.293606</td>\n",
       "    </tr>\n",
       "  </tbody>\n",
       "</table>\n",
       "</div>"
      ],
      "text/plain": [
       "       lat      long  merch_lat  merch_long  lat_diff  long_diff\n",
       "0  48.8878 -118.2105  49.159047 -118.186462  0.271247   0.024038\n",
       "1  40.6747  -74.2239  40.079588  -74.848087  0.595112   0.624187\n",
       "2  40.6152  -74.4150  40.021888  -74.228188  0.593312   0.186812\n",
       "3  42.2203  -83.3583  42.360426  -83.552316  0.140126   0.194016\n",
       "4  30.4066  -91.1468  29.737426  -90.853194  0.669174   0.293606"
      ]
     },
     "execution_count": 62,
     "metadata": {},
     "output_type": "execute_result"
    }
   ],
   "source": [
    "cc_df[['lat', 'long', 'merch_lat', 'merch_long', 'lat_diff', 'long_diff']].head()"
   ]
  },
  {
   "cell_type": "markdown",
   "id": "e709672d",
   "metadata": {},
   "source": [
    "더 할게 있을까.... 다 한게 맞는건가?\n",
    "이걸로 뭘 할 수 있을까......\n",
    "답을 줘요 승욱님.........ㅠ"
   ]
  }
 ],
 "metadata": {
  "kernelspec": {
   "display_name": "Python 3 (ipykernel)",
   "language": "python",
   "name": "python3"
  },
  "language_info": {
   "codemirror_mode": {
    "name": "ipython",
    "version": 3
   },
   "file_extension": ".py",
   "mimetype": "text/x-python",
   "name": "python",
   "nbconvert_exporter": "python",
   "pygments_lexer": "ipython3",
   "version": "3.9.7"
  }
 },
 "nbformat": 4,
 "nbformat_minor": 5
}
